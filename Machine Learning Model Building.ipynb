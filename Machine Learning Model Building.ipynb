{
 "cells": [
  {
   "cell_type": "markdown",
   "id": "94c8838a",
   "metadata": {},
   "source": [
    "# Importing Module And Important Libraries"
   ]
  },
  {
   "cell_type": "code",
   "execution_count": 2,
   "id": "5ca91417",
   "metadata": {},
   "outputs": [],
   "source": [
    "import numpy as np\n",
    "import pandas as pd\n",
    "import matplotlib.pyplot as plt\n",
    "import seaborn as sns\n",
    "\n",
    "from sklearn.preprocessing import StandardScaler, LabelEncoder\n",
    "\n",
    "from sklearn.model_selection import train_test_split\n",
    "from sklearn.metrics import mean_squared_error,mean_absolute_error,r2_score\n",
    "\n",
    "from sklearn.linear_model import LinearRegression, Ridge, Lasso\n",
    "from sklearn.neighbors import KNeighborsRegressor\n",
    "from sklearn.tree import DecisionTreeRegressor\n",
    "from sklearn.ensemble import RandomForestRegressor, AdaBoostRegressor,GradientBoostingRegressor\n",
    "from xgboost import XGBRegressor\n",
    "\n",
    "import pickle as pkl\n",
    "\n",
    "import warnings\n",
    "warnings.filterwarnings(\"ignore\")"
   ]
  },
  {
   "cell_type": "markdown",
   "id": "d282e0e0",
   "metadata": {},
   "source": [
    "## Uploading the Pre-Processed Data"
   ]
  },
  {
   "cell_type": "code",
   "execution_count": 4,
   "id": "8e881b44",
   "metadata": {},
   "outputs": [],
   "source": [
    "df = pd.read_csv('Car_Details_Cleaned_Dataset.csv')"
   ]
  },
  {
   "cell_type": "code",
   "execution_count": 6,
   "id": "c0ca4043",
   "metadata": {},
   "outputs": [],
   "source": [
    "# Creating a copy of dataset\n",
    "data = df.copy()"
   ]
  },
  {
   "cell_type": "code",
   "execution_count": 8,
   "id": "cae73fe4",
   "metadata": {},
   "outputs": [
    {
     "data": {
      "text/plain": [
       "(3145, 9)"
      ]
     },
     "execution_count": 8,
     "metadata": {},
     "output_type": "execute_result"
    }
   ],
   "source": [
    "# Checking shape of dataset\n",
    "data.shape"
   ]
  },
  {
   "cell_type": "code",
   "execution_count": 10,
   "id": "0e7fc36e",
   "metadata": {},
   "outputs": [],
   "source": [
    "# Seprating the categorical and numerical columns\n",
    "categorical_col = ['Car_Brand', 'Car_Name', 'Fuel', 'Seller_Type', 'Transmission', 'Owner']\n",
    "numerical_col = ['Year', 'Selling_Price', 'Km_Driven']"
   ]
  },
  {
   "cell_type": "markdown",
   "id": "60f0a441",
   "metadata": {},
   "source": [
    "## Label-Encoder Method"
   ]
  },
  {
   "cell_type": "code",
   "execution_count": 12,
   "id": "9ee45b75",
   "metadata": {},
   "outputs": [
    {
     "data": {
      "text/html": [
       "<style>#sk-container-id-2 {color: black;}#sk-container-id-2 pre{padding: 0;}#sk-container-id-2 div.sk-toggleable {background-color: white;}#sk-container-id-2 label.sk-toggleable__label {cursor: pointer;display: block;width: 100%;margin-bottom: 0;padding: 0.3em;box-sizing: border-box;text-align: center;}#sk-container-id-2 label.sk-toggleable__label-arrow:before {content: \"▸\";float: left;margin-right: 0.25em;color: #696969;}#sk-container-id-2 label.sk-toggleable__label-arrow:hover:before {color: black;}#sk-container-id-2 div.sk-estimator:hover label.sk-toggleable__label-arrow:before {color: black;}#sk-container-id-2 div.sk-toggleable__content {max-height: 0;max-width: 0;overflow: hidden;text-align: left;background-color: #f0f8ff;}#sk-container-id-2 div.sk-toggleable__content pre {margin: 0.2em;color: black;border-radius: 0.25em;background-color: #f0f8ff;}#sk-container-id-2 input.sk-toggleable__control:checked~div.sk-toggleable__content {max-height: 200px;max-width: 100%;overflow: auto;}#sk-container-id-2 input.sk-toggleable__control:checked~label.sk-toggleable__label-arrow:before {content: \"▾\";}#sk-container-id-2 div.sk-estimator input.sk-toggleable__control:checked~label.sk-toggleable__label {background-color: #d4ebff;}#sk-container-id-2 div.sk-label input.sk-toggleable__control:checked~label.sk-toggleable__label {background-color: #d4ebff;}#sk-container-id-2 input.sk-hidden--visually {border: 0;clip: rect(1px 1px 1px 1px);clip: rect(1px, 1px, 1px, 1px);height: 1px;margin: -1px;overflow: hidden;padding: 0;position: absolute;width: 1px;}#sk-container-id-2 div.sk-estimator {font-family: monospace;background-color: #f0f8ff;border: 1px dotted black;border-radius: 0.25em;box-sizing: border-box;margin-bottom: 0.5em;}#sk-container-id-2 div.sk-estimator:hover {background-color: #d4ebff;}#sk-container-id-2 div.sk-parallel-item::after {content: \"\";width: 100%;border-bottom: 1px solid gray;flex-grow: 1;}#sk-container-id-2 div.sk-label:hover label.sk-toggleable__label {background-color: #d4ebff;}#sk-container-id-2 div.sk-serial::before {content: \"\";position: absolute;border-left: 1px solid gray;box-sizing: border-box;top: 0;bottom: 0;left: 50%;z-index: 0;}#sk-container-id-2 div.sk-serial {display: flex;flex-direction: column;align-items: center;background-color: white;padding-right: 0.2em;padding-left: 0.2em;position: relative;}#sk-container-id-2 div.sk-item {position: relative;z-index: 1;}#sk-container-id-2 div.sk-parallel {display: flex;align-items: stretch;justify-content: center;background-color: white;position: relative;}#sk-container-id-2 div.sk-item::before, #sk-container-id-2 div.sk-parallel-item::before {content: \"\";position: absolute;border-left: 1px solid gray;box-sizing: border-box;top: 0;bottom: 0;left: 50%;z-index: -1;}#sk-container-id-2 div.sk-parallel-item {display: flex;flex-direction: column;z-index: 1;position: relative;background-color: white;}#sk-container-id-2 div.sk-parallel-item:first-child::after {align-self: flex-end;width: 50%;}#sk-container-id-2 div.sk-parallel-item:last-child::after {align-self: flex-start;width: 50%;}#sk-container-id-2 div.sk-parallel-item:only-child::after {width: 0;}#sk-container-id-2 div.sk-dashed-wrapped {border: 1px dashed gray;margin: 0 0.4em 0.5em 0.4em;box-sizing: border-box;padding-bottom: 0.4em;background-color: white;}#sk-container-id-2 div.sk-label label {font-family: monospace;font-weight: bold;display: inline-block;line-height: 1.2em;}#sk-container-id-2 div.sk-label-container {text-align: center;}#sk-container-id-2 div.sk-container {/* jupyter's `normalize.less` sets `[hidden] { display: none; }` but bootstrap.min.css set `[hidden] { display: none !important; }` so we also need the `!important` here to be able to override the default hidden behavior on the sphinx rendered scikit-learn.org. See: https://github.com/scikit-learn/scikit-learn/issues/21755 */display: inline-block !important;position: relative;}#sk-container-id-2 div.sk-text-repr-fallback {display: none;}</style><div id=\"sk-container-id-2\" class=\"sk-top-container\"><div class=\"sk-text-repr-fallback\"><pre>LabelEncoder()</pre><b>In a Jupyter environment, please rerun this cell to show the HTML representation or trust the notebook. <br />On GitHub, the HTML representation is unable to render, please try loading this page with nbviewer.org.</b></div><div class=\"sk-container\" hidden><div class=\"sk-item\"><div class=\"sk-estimator sk-toggleable\"><input class=\"sk-toggleable__control sk-hidden--visually\" id=\"sk-estimator-id-2\" type=\"checkbox\" checked><label for=\"sk-estimator-id-2\" class=\"sk-toggleable__label sk-toggleable__label-arrow\">LabelEncoder</label><div class=\"sk-toggleable__content\"><pre>LabelEncoder()</pre></div></div></div></div></div>"
      ],
      "text/plain": [
       "LabelEncoder()"
      ]
     },
     "execution_count": 12,
     "metadata": {},
     "output_type": "execute_result"
    }
   ],
   "source": [
    "# Encoding categorical data\n",
    "label_encoder = {} \n",
    "for i in categorical_col:\n",
    "    le = LabelEncoder()\n",
    "    data[i] = le.fit_transform(data[i])\n",
    "    label_encoder[i] = le\n",
    "le"
   ]
  },
  {
   "cell_type": "code",
   "execution_count": 14,
   "id": "95b04c0b",
   "metadata": {},
   "outputs": [
    {
     "data": {
      "text/html": [
       "<div>\n",
       "<style scoped>\n",
       "    .dataframe tbody tr th:only-of-type {\n",
       "        vertical-align: middle;\n",
       "    }\n",
       "\n",
       "    .dataframe tbody tr th {\n",
       "        vertical-align: top;\n",
       "    }\n",
       "\n",
       "    .dataframe thead th {\n",
       "        text-align: right;\n",
       "    }\n",
       "</style>\n",
       "<table border=\"1\" class=\"dataframe\">\n",
       "  <thead>\n",
       "    <tr style=\"text-align: right;\">\n",
       "      <th></th>\n",
       "      <th>Car_Brand</th>\n",
       "      <th>Car_Name</th>\n",
       "      <th>Year</th>\n",
       "      <th>Selling_Price</th>\n",
       "      <th>Km_Driven</th>\n",
       "      <th>Fuel</th>\n",
       "      <th>Seller_Type</th>\n",
       "      <th>Transmission</th>\n",
       "      <th>Owner</th>\n",
       "    </tr>\n",
       "  </thead>\n",
       "  <tbody>\n",
       "    <tr>\n",
       "      <th>0</th>\n",
       "      <td>11</td>\n",
       "      <td>4</td>\n",
       "      <td>2007</td>\n",
       "      <td>60000</td>\n",
       "      <td>70000</td>\n",
       "      <td>4</td>\n",
       "      <td>1</td>\n",
       "      <td>1</td>\n",
       "      <td>0</td>\n",
       "    </tr>\n",
       "    <tr>\n",
       "      <th>1</th>\n",
       "      <td>11</td>\n",
       "      <td>135</td>\n",
       "      <td>2007</td>\n",
       "      <td>135000</td>\n",
       "      <td>50000</td>\n",
       "      <td>4</td>\n",
       "      <td>1</td>\n",
       "      <td>1</td>\n",
       "      <td>0</td>\n",
       "    </tr>\n",
       "    <tr>\n",
       "      <th>2</th>\n",
       "      <td>9</td>\n",
       "      <td>132</td>\n",
       "      <td>2012</td>\n",
       "      <td>600000</td>\n",
       "      <td>100000</td>\n",
       "      <td>1</td>\n",
       "      <td>1</td>\n",
       "      <td>1</td>\n",
       "      <td>0</td>\n",
       "    </tr>\n",
       "    <tr>\n",
       "      <th>3</th>\n",
       "      <td>4</td>\n",
       "      <td>101</td>\n",
       "      <td>2017</td>\n",
       "      <td>250000</td>\n",
       "      <td>46000</td>\n",
       "      <td>4</td>\n",
       "      <td>1</td>\n",
       "      <td>1</td>\n",
       "      <td>0</td>\n",
       "    </tr>\n",
       "    <tr>\n",
       "      <th>4</th>\n",
       "      <td>8</td>\n",
       "      <td>11</td>\n",
       "      <td>2014</td>\n",
       "      <td>450000</td>\n",
       "      <td>141000</td>\n",
       "      <td>1</td>\n",
       "      <td>1</td>\n",
       "      <td>1</td>\n",
       "      <td>2</td>\n",
       "    </tr>\n",
       "  </tbody>\n",
       "</table>\n",
       "</div>"
      ],
      "text/plain": [
       "   Car_Brand  Car_Name  Year  Selling_Price  Km_Driven  Fuel  Seller_Type  \\\n",
       "0         11         4  2007          60000      70000     4            1   \n",
       "1         11       135  2007         135000      50000     4            1   \n",
       "2          9       132  2012         600000     100000     1            1   \n",
       "3          4       101  2017         250000      46000     4            1   \n",
       "4          8        11  2014         450000     141000     1            1   \n",
       "\n",
       "   Transmission  Owner  \n",
       "0             1      0  \n",
       "1             1      0  \n",
       "2             1      0  \n",
       "3             1      0  \n",
       "4             1      2  "
      ]
     },
     "execution_count": 14,
     "metadata": {},
     "output_type": "execute_result"
    }
   ],
   "source": [
    "# Viewing the dataset after applying label encoding\n",
    "data.head()"
   ]
  },
  {
   "cell_type": "markdown",
   "id": "230604a4",
   "metadata": {},
   "source": [
    "## Correlation Checking"
   ]
  },
  {
   "cell_type": "code",
   "execution_count": 17,
   "id": "7c4a641c",
   "metadata": {},
   "outputs": [
    {
     "data": {
      "image/png": "[encoded data removed]",
      "text/plain": [
       "<Figure size 600x400 with 2 Axes>"
      ]
     },
     "metadata": {},
     "output_type": "display_data"
    }
   ],
   "source": [
    "corr = data.corr()\n",
    "corr = corr[corr>=0.7]\n",
    "plt.figure(figsize=(6, 4))\n",
    "sns.heatmap(corr, annot=True, fmt='.2f', cmap='coolwarm')\n",
    "plt.title(\"Correlation Heatmap Plot\")\n",
    "plt.show()"
   ]
  },
  {
   "cell_type": "markdown",
   "id": "5045c4b8",
   "metadata": {},
   "source": [
    "## Machine Learning Model Building"
   ]
  },
  {
   "cell_type": "code",
   "execution_count": 19,
   "id": "08796024",
   "metadata": {},
   "outputs": [],
   "source": [
    "# Separating Dependent and Independent Variables\n",
    "x = data.drop([\"Selling_Price\"], axis=1)\n",
    "y = data[\"Selling_Price\"]"
   ]
  },
  {
   "cell_type": "code",
   "execution_count": 22,
   "id": "403bef24",
   "metadata": {},
   "outputs": [
    {
     "data": {
      "image/png": "[encoded data removed]",
      "text/plain": [
       "<Figure size 1200x500 with 1 Axes>"
      ]
     },
     "metadata": {},
     "output_type": "display_data"
    }
   ],
   "source": [
    "forest = RandomForestRegressor()\n",
    "forest.fit(x, y)\n",
    "importances = forest.feature_importances_\n",
    "std = np.std([tree.feature_importances_ for tree in forest.estimators_], axis=0)\n",
    "forest_importances = pd.Series(importances, index=x.columns)\n",
    "\n",
    "fig, ax = plt.subplots(figsize=(12, 5))\n",
    "forest_importances.plot.bar(yerr=std, ax=ax)\n",
    "ax.set_title(\"Feature importances using MDI\")\n",
    "ax.set_ylabel(\"Mean decrease in impurity\")\n",
    "fig.tight_layout()\n",
    "plt.show()"
   ]
  },
  {
   "cell_type": "code",
   "execution_count": 24,
   "id": "87254604",
   "metadata": {},
   "outputs": [],
   "source": [
    "# Splitting into Training and Testing Dataset\n",
    "x_train, x_test, y_train, y_test = train_test_split(x, y, test_size=0.25, random_state=42)"
   ]
  },
  {
   "cell_type": "code",
   "execution_count": 26,
   "id": "e17f7578",
   "metadata": {},
   "outputs": [
    {
     "data": {
      "text/plain": [
       "array([[ 1.20903165e+00, -6.89871284e-02,  1.01306529e+00, ...,\n",
       "         4.48401595e-01,  2.51236796e-01,  9.15278676e-01],\n",
       "       [-1.12907277e-03, -7.83884507e-01,  1.01306529e+00, ...,\n",
       "        -1.96559603e+00,  2.51236796e-01, -6.97746076e-01],\n",
       "       [-1.12907277e-03,  9.05872933e-01, -6.90674181e-02, ...,\n",
       "         4.48401595e-01,  2.51236796e-01,  9.15278676e-01],\n",
       "       ...,\n",
       "       [-7.27225509e-01, -1.04384719e+00, -2.23333283e+00, ...,\n",
       "         4.48401595e-01,  2.51236796e-01,  2.52830343e+00],\n",
       "       [-9.69257655e-01, -5.23921824e-01,  1.55413164e+00, ...,\n",
       "        -1.96559603e+00,  2.51236796e-01,  1.72179105e+00],\n",
       "       [-1.12907277e-03, -1.60709967e+00, -3.39600594e-01, ...,\n",
       "         4.48401595e-01,  2.51236796e-01, -6.97746076e-01]])"
      ]
     },
     "execution_count": 26,
     "metadata": {},
     "output_type": "execute_result"
    }
   ],
   "source": [
    "# Standardize numerical column\n",
    "sc = StandardScaler()\n",
    "sc.fit_transform(x_train)\n",
    "sc.transform(x_test)"
   ]
  },
  {
   "cell_type": "code",
   "execution_count": 28,
   "id": "95004b38",
   "metadata": {},
   "outputs": [],
   "source": [
    "# Creating variable to store model evaluation data\n",
    "model_scores = {}\n",
    "\n",
    "# Creating  Model Evaluation Function \n",
    "def evaluate(model, model_name, x_train, y_train, x_test, y_test):\n",
    "    y_pred = model.predict(x_test)\n",
    "\n",
    "    # Calculating Model Evaluation\n",
    "    training_score = model.score(x_train,y_train)\n",
    "    testing_score = model.score(x_test,y_test)\n",
    "    mae = mean_absolute_error(y_test, y_pred)\n",
    "    mse = mean_squared_error(y_test, y_pred)\n",
    "    r2 = r2_score(y_test, y_pred)\n",
    "    print(\"Model\",model_name)\n",
    "    print(\"Training Score\",training_score)\n",
    "    print(\"Testing Score\",testing_score)\n",
    "    print(\"Mean Squared Error\",mse)\n",
    "    print(\"Mean Absolute Error\",mae)\n",
    "    print(\"R2 Score\",r2)\n",
    "    \n",
    "    # Storing score of each model in model_scores variable    \n",
    "    model_scores[model_name] = {'Training Score': training_score,'Testing Score': testing_score,'R² Score': r2}"
   ]
  },
  {
   "cell_type": "markdown",
   "id": "232e7d19",
   "metadata": {},
   "source": [
    "# 1. Linear Regression"
   ]
  },
  {
   "cell_type": "code",
   "execution_count": 30,
   "id": "fa975809",
   "metadata": {},
   "outputs": [
    {
     "name": "stdout",
     "output_type": "stream",
     "text": [
      "Model Linear Regression\n",
      "Training Score 0.5215746306044677\n",
      "Testing Score 0.5315308071313605\n",
      "Mean Squared Error 26580016228.20305\n",
      "Mean Absolute Error 126703.81003730094\n",
      "R2 Score 0.5315308071313605\n"
     ]
    }
   ],
   "source": [
    "linear = LinearRegression()\n",
    "linear.fit(x_train,y_train)\n",
    "evaluate(linear,\"Linear Regression\",x_train,y_train,x_test,y_test)"
   ]
  },
  {
   "cell_type": "markdown",
   "id": "73e78be7",
   "metadata": {},
   "source": [
    "# 2.Lasso Regression"
   ]
  },
  {
   "cell_type": "code",
   "execution_count": 32,
   "id": "066f3407",
   "metadata": {},
   "outputs": [
    {
     "name": "stdout",
     "output_type": "stream",
     "text": [
      "Model Lasso Regression\n",
      "Training Score 0.5215746301646691\n",
      "Testing Score 0.5315287841041504\n",
      "Mean Squared Error 26580131010.769104\n",
      "Mean Absolute Error 126703.94133800345\n",
      "R2 Score 0.5315287841041504\n"
     ]
    }
   ],
   "source": [
    "lasso = Lasso()\n",
    "lasso.fit(x_train,y_train)\n",
    "evaluate(lasso,\"Lasso Regression\",x_train,y_train,x_test,y_test)"
   ]
  },
  {
   "cell_type": "markdown",
   "id": "7dea7e52",
   "metadata": {},
   "source": [
    "# 3.KNeighbors Regression"
   ]
  },
  {
   "cell_type": "code",
   "execution_count": 34,
   "id": "30c57b65",
   "metadata": {},
   "outputs": [
    {
     "name": "stdout",
     "output_type": "stream",
     "text": [
      "Model KNeighbors Regressor\n",
      "Training Score 0.4743965987377978\n",
      "Testing Score 0.20706839681939915\n",
      "Mean Squared Error 44989372196.146225\n",
      "Mean Absolute Error 160545.71613723\n",
      "R2 Score 0.20706839681939915\n"
     ]
    }
   ],
   "source": [
    "knn = KNeighborsRegressor()\n",
    "knn.fit(x_train,y_train)\n",
    "evaluate(knn,\"KNeighbors Regressor\",x_train,y_train,x_test,y_test)"
   ]
  },
  {
   "cell_type": "markdown",
   "id": "7b23a57d",
   "metadata": {},
   "source": [
    "# 4.Ridge Regression"
   ]
  },
  {
   "cell_type": "code",
   "execution_count": 36,
   "id": "9cd3c378",
   "metadata": {},
   "outputs": [
    {
     "name": "stdout",
     "output_type": "stream",
     "text": [
      "Model Ridge Regression\n",
      "Training Score 0.5215734254065538\n",
      "Testing Score 0.5314268515252227\n",
      "Mean Squared Error 26585914463.86127\n",
      "Mean Absolute Error 126714.42157069372\n",
      "R2 Score 0.5314268515252227\n"
     ]
    }
   ],
   "source": [
    "ridge = Ridge()\n",
    "ridge.fit(x_train,y_train)\n",
    "evaluate(ridge,\"Ridge Regression\",x_train,y_train,x_test,y_test)"
   ]
  },
  {
   "cell_type": "markdown",
   "id": "d12ab6f2",
   "metadata": {},
   "source": [
    "# Ensemble Techniques"
   ]
  },
  {
   "cell_type": "markdown",
   "id": "050888d4",
   "metadata": {},
   "source": [
    "# 5. Decision Tree Regression"
   ]
  },
  {
   "cell_type": "code",
   "execution_count": 38,
   "id": "168d22c9",
   "metadata": {},
   "outputs": [
    {
     "name": "stdout",
     "output_type": "stream",
     "text": [
      "Model Decision Tree\n",
      "Training Score 0.9958075397596032\n",
      "Testing Score 0.6195240969439005\n",
      "Mean Squared Error 21587450854.013943\n",
      "Mean Absolute Error 99574.86637018214\n",
      "R2 Score 0.6195240969439005\n"
     ]
    }
   ],
   "source": [
    "decision = DecisionTreeRegressor()\n",
    "decision.fit(x_train,y_train)\n",
    "evaluate(decision,\"Decision Tree\",x_train,y_train,x_test,y_test)"
   ]
  },
  {
   "cell_type": "markdown",
   "id": "54475cf4",
   "metadata": {},
   "source": [
    "# 6. Random Forest Regression"
   ]
  },
  {
   "cell_type": "code",
   "execution_count": 40,
   "id": "b3275a9f",
   "metadata": {},
   "outputs": [
    {
     "name": "stdout",
     "output_type": "stream",
     "text": [
      "Model Random Forest\n",
      "Training Score 0.9642484885147\n",
      "Testing Score 0.7636564511006839\n",
      "Mean Squared Error 13409665909.315031\n",
      "Mean Absolute Error 81527.20464279756\n",
      "R2 Score 0.7636564511006839\n"
     ]
    }
   ],
   "source": [
    "RF = RandomForestRegressor()\n",
    "RF.fit(x_train,y_train)\n",
    "evaluate(RF,\"Random Forest\",x_train,y_train,x_test,y_test)"
   ]
  },
  {
   "cell_type": "markdown",
   "id": "390691be",
   "metadata": {},
   "source": [
    "# 7. AdaBoost Regression"
   ]
  },
  {
   "cell_type": "code",
   "execution_count": 42,
   "id": "4417d533",
   "metadata": {},
   "outputs": [
    {
     "name": "stdout",
     "output_type": "stream",
     "text": [
      "Model AdaBoost\n",
      "Training Score 0.4471020811822234\n",
      "Testing Score 0.4573643492366166\n",
      "Mean Squared Error 30788074483.558605\n",
      "Mean Absolute Error 147762.44176129697\n",
      "R2 Score 0.4573643492366166\n"
     ]
    }
   ],
   "source": [
    "ada = AdaBoostRegressor()\n",
    "ada.fit(x_train,y_train)\n",
    "evaluate(ada,\"AdaBoost\",x_train,y_train,x_test,y_test)"
   ]
  },
  {
   "cell_type": "markdown",
   "id": "c83a2479",
   "metadata": {},
   "source": [
    "# 8. Gradient Boosting Regression"
   ]
  },
  {
   "cell_type": "code",
   "execution_count": 44,
   "id": "5041c4a2",
   "metadata": {},
   "outputs": [
    {
     "name": "stdout",
     "output_type": "stream",
     "text": [
      "Model Gradient Boosting\n",
      "Training Score 0.7904690926319811\n",
      "Testing Score 0.7486623977965552\n",
      "Mean Squared Error 14260398862.980213\n",
      "Mean Absolute Error 87041.47434406905\n",
      "R2 Score 0.7486623977965552\n"
     ]
    }
   ],
   "source": [
    "gradient = GradientBoostingRegressor()\n",
    "gradient.fit(x_train,y_train)\n",
    "evaluate(gradient,\"Gradient Boosting\",x_train,y_train,x_test,y_test)"
   ]
  },
  {
   "cell_type": "markdown",
   "id": "ff05e88d",
   "metadata": {},
   "source": [
    "# 9. XGBoost Regression"
   ]
  },
  {
   "cell_type": "code",
   "execution_count": 46,
   "id": "52fe6992",
   "metadata": {},
   "outputs": [
    {
     "name": "stdout",
     "output_type": "stream",
     "text": [
      "Model XGBoost\n",
      "Training Score 0.9688721679487646\n",
      "Testing Score 0.7950412624645368\n",
      "Mean Squared Error 11628953734.279398\n",
      "Mean Absolute Error 76916.81705646442\n",
      "R2 Score 0.7950412624645368\n"
     ]
    }
   ],
   "source": [
    "xgb =XGBRegressor()\n",
    "xgb.fit(x_train,y_train)\n",
    "evaluate(xgb,\"XGBoost\",x_train,y_train,x_test,y_test)"
   ]
  },
  {
   "cell_type": "markdown",
   "id": "7a3e1edf",
   "metadata": {},
   "source": [
    "### Retrieving models with their scores"
   ]
  },
  {
   "cell_type": "code",
   "execution_count": 48,
   "id": "fa98bc11",
   "metadata": {},
   "outputs": [
    {
     "data": {
      "text/html": [
       "<div>\n",
       "<style scoped>\n",
       "    .dataframe tbody tr th:only-of-type {\n",
       "        vertical-align: middle;\n",
       "    }\n",
       "\n",
       "    .dataframe tbody tr th {\n",
       "        vertical-align: top;\n",
       "    }\n",
       "\n",
       "    .dataframe thead th {\n",
       "        text-align: right;\n",
       "    }\n",
       "</style>\n",
       "<table border=\"1\" class=\"dataframe\">\n",
       "  <thead>\n",
       "    <tr style=\"text-align: right;\">\n",
       "      <th></th>\n",
       "      <th>Training Score</th>\n",
       "      <th>Testing Score</th>\n",
       "      <th>R² Score</th>\n",
       "    </tr>\n",
       "  </thead>\n",
       "  <tbody>\n",
       "    <tr>\n",
       "      <th>Linear Regression</th>\n",
       "      <td>0.521575</td>\n",
       "      <td>0.531531</td>\n",
       "      <td>0.531531</td>\n",
       "    </tr>\n",
       "    <tr>\n",
       "      <th>Lasso Regression</th>\n",
       "      <td>0.521575</td>\n",
       "      <td>0.531529</td>\n",
       "      <td>0.531529</td>\n",
       "    </tr>\n",
       "    <tr>\n",
       "      <th>KNeighbors Regressor</th>\n",
       "      <td>0.474397</td>\n",
       "      <td>0.207068</td>\n",
       "      <td>0.207068</td>\n",
       "    </tr>\n",
       "    <tr>\n",
       "      <th>Ridge Regression</th>\n",
       "      <td>0.521573</td>\n",
       "      <td>0.531427</td>\n",
       "      <td>0.531427</td>\n",
       "    </tr>\n",
       "    <tr>\n",
       "      <th>Decision Tree</th>\n",
       "      <td>0.995808</td>\n",
       "      <td>0.619524</td>\n",
       "      <td>0.619524</td>\n",
       "    </tr>\n",
       "    <tr>\n",
       "      <th>Random Forest</th>\n",
       "      <td>0.964248</td>\n",
       "      <td>0.763656</td>\n",
       "      <td>0.763656</td>\n",
       "    </tr>\n",
       "    <tr>\n",
       "      <th>AdaBoost</th>\n",
       "      <td>0.447102</td>\n",
       "      <td>0.457364</td>\n",
       "      <td>0.457364</td>\n",
       "    </tr>\n",
       "    <tr>\n",
       "      <th>Gradient Boosting</th>\n",
       "      <td>0.790469</td>\n",
       "      <td>0.748662</td>\n",
       "      <td>0.748662</td>\n",
       "    </tr>\n",
       "    <tr>\n",
       "      <th>XGBoost</th>\n",
       "      <td>0.968872</td>\n",
       "      <td>0.795041</td>\n",
       "      <td>0.795041</td>\n",
       "    </tr>\n",
       "  </tbody>\n",
       "</table>\n",
       "</div>"
      ],
      "text/plain": [
       "                      Training Score  Testing Score  R² Score\n",
       "Linear Regression           0.521575       0.531531  0.531531\n",
       "Lasso Regression            0.521575       0.531529  0.531529\n",
       "KNeighbors Regressor        0.474397       0.207068  0.207068\n",
       "Ridge Regression            0.521573       0.531427  0.531427\n",
       "Decision Tree               0.995808       0.619524  0.619524\n",
       "Random Forest               0.964248       0.763656  0.763656\n",
       "AdaBoost                    0.447102       0.457364  0.457364\n",
       "Gradient Boosting           0.790469       0.748662  0.748662\n",
       "XGBoost                     0.968872       0.795041  0.795041"
      ]
     },
     "execution_count": 48,
     "metadata": {},
     "output_type": "execute_result"
    }
   ],
   "source": [
    "pd.DataFrame(model_scores).T"
   ]
  },
  {
   "cell_type": "markdown",
   "id": "06598baa",
   "metadata": {},
   "source": [
    "Note: - The XGBoost model achieved the best accuracy at 80%, outperforming Gradient Boosting at 76% and other models, despite showing signs of overfitting. This overfitting is likely due to the imbalanced nature of our dataset. "
   ]
  },
  {
   "cell_type": "markdown",
   "id": "0dcc573d",
   "metadata": {},
   "source": [
    "# Saving the Model"
   ]
  },
  {
   "cell_type": "code",
   "execution_count": 69,
   "id": "0e81f114",
   "metadata": {},
   "outputs": [],
   "source": [
    "pkl.dump(xgb,open('app.pkl','wb'))"
   ]
  },
  {
   "cell_type": "markdown",
   "id": "41afc735",
   "metadata": {},
   "source": [
    "# Uploading the Model"
   ]
  },
  {
   "cell_type": "code",
   "execution_count": 70,
   "id": "3c3d8752",
   "metadata": {},
   "outputs": [],
   "source": [
    "model = pkl.load(open('app.pkl','rb'))"
   ]
  },
  {
   "cell_type": "markdown",
   "id": "02d3600b",
   "metadata": {},
   "source": [
    "## Generating Sample Dataset"
   ]
  },
  {
   "cell_type": "code",
   "execution_count": 54,
   "id": "13983ede",
   "metadata": {},
   "outputs": [
    {
     "data": {
      "text/html": [
       "<div>\n",
       "<style scoped>\n",
       "    .dataframe tbody tr th:only-of-type {\n",
       "        vertical-align: middle;\n",
       "    }\n",
       "\n",
       "    .dataframe tbody tr th {\n",
       "        vertical-align: top;\n",
       "    }\n",
       "\n",
       "    .dataframe thead th {\n",
       "        text-align: right;\n",
       "    }\n",
       "</style>\n",
       "<table border=\"1\" class=\"dataframe\">\n",
       "  <thead>\n",
       "    <tr style=\"text-align: right;\">\n",
       "      <th></th>\n",
       "      <th>Car_Brand</th>\n",
       "      <th>Car_Name</th>\n",
       "      <th>Year</th>\n",
       "      <th>Selling_Price</th>\n",
       "      <th>Km_Driven</th>\n",
       "      <th>Fuel</th>\n",
       "      <th>Seller_Type</th>\n",
       "      <th>Transmission</th>\n",
       "      <th>Owner</th>\n",
       "    </tr>\n",
       "  </thead>\n",
       "  <tbody>\n",
       "    <tr>\n",
       "      <th>0</th>\n",
       "      <td>Honda</td>\n",
       "      <td>City</td>\n",
       "      <td>2010</td>\n",
       "      <td>400000</td>\n",
       "      <td>50000</td>\n",
       "      <td>Petrol</td>\n",
       "      <td>Individual</td>\n",
       "      <td>Manual</td>\n",
       "      <td>First Owner</td>\n",
       "    </tr>\n",
       "    <tr>\n",
       "      <th>1</th>\n",
       "      <td>Mahindra</td>\n",
       "      <td>Bolero</td>\n",
       "      <td>2015</td>\n",
       "      <td>320000</td>\n",
       "      <td>50000</td>\n",
       "      <td>Diesel</td>\n",
       "      <td>Individual</td>\n",
       "      <td>Manual</td>\n",
       "      <td>Third Owner</td>\n",
       "    </tr>\n",
       "    <tr>\n",
       "      <th>2</th>\n",
       "      <td>Renault</td>\n",
       "      <td>KWID</td>\n",
       "      <td>2016</td>\n",
       "      <td>280000</td>\n",
       "      <td>23000</td>\n",
       "      <td>Petrol</td>\n",
       "      <td>Individual</td>\n",
       "      <td>Manual</td>\n",
       "      <td>First Owner</td>\n",
       "    </tr>\n",
       "    <tr>\n",
       "      <th>3</th>\n",
       "      <td>Fiat</td>\n",
       "      <td>Punto</td>\n",
       "      <td>2010</td>\n",
       "      <td>165000</td>\n",
       "      <td>100000</td>\n",
       "      <td>Petrol</td>\n",
       "      <td>Individual</td>\n",
       "      <td>Manual</td>\n",
       "      <td>Fourth &amp; Above Owner</td>\n",
       "    </tr>\n",
       "    <tr>\n",
       "      <th>4</th>\n",
       "      <td>Maruti</td>\n",
       "      <td>Swift</td>\n",
       "      <td>2009</td>\n",
       "      <td>270000</td>\n",
       "      <td>120000</td>\n",
       "      <td>Diesel</td>\n",
       "      <td>Individual</td>\n",
       "      <td>Manual</td>\n",
       "      <td>Second Owner</td>\n",
       "    </tr>\n",
       "  </tbody>\n",
       "</table>\n",
       "</div>"
      ],
      "text/plain": [
       "  Car_Brand Car_Name  Year  Selling_Price  Km_Driven    Fuel Seller_Type  \\\n",
       "0     Honda     City  2010         400000      50000  Petrol  Individual   \n",
       "1  Mahindra   Bolero  2015         320000      50000  Diesel  Individual   \n",
       "2   Renault     KWID  2016         280000      23000  Petrol  Individual   \n",
       "3      Fiat    Punto  2010         165000     100000  Petrol  Individual   \n",
       "4    Maruti    Swift  2009         270000     120000  Diesel  Individual   \n",
       "\n",
       "  Transmission                 Owner  \n",
       "0       Manual           First Owner  \n",
       "1       Manual           Third Owner  \n",
       "2       Manual           First Owner  \n",
       "3       Manual  Fourth & Above Owner  \n",
       "4       Manual          Second Owner  "
      ]
     },
     "execution_count": 54,
     "metadata": {},
     "output_type": "execute_result"
    }
   ],
   "source": [
    "sample_data = df.sample(n = 20, random_state = 40).reset_index(drop=True)  # Reordering index - just for better visualization.\n",
    "sample_data.head()"
   ]
  },
  {
   "cell_type": "markdown",
   "id": "cf17ea2d",
   "metadata": {},
   "source": [
    "## Saving the Sample Dataset"
   ]
  },
  {
   "cell_type": "code",
   "execution_count": 60,
   "id": "52390f63",
   "metadata": {},
   "outputs": [],
   "source": [
    "sample_data.to_csv(\"Sample_Dataset.csv\", index=False)"
   ]
  },
  {
   "cell_type": "code",
   "execution_count": 63,
   "id": "6c68c42d",
   "metadata": {},
   "outputs": [
    {
     "data": {
      "text/html": [
       "<div>\n",
       "<style scoped>\n",
       "    .dataframe tbody tr th:only-of-type {\n",
       "        vertical-align: middle;\n",
       "    }\n",
       "\n",
       "    .dataframe tbody tr th {\n",
       "        vertical-align: top;\n",
       "    }\n",
       "\n",
       "    .dataframe thead th {\n",
       "        text-align: right;\n",
       "    }\n",
       "</style>\n",
       "<table border=\"1\" class=\"dataframe\">\n",
       "  <thead>\n",
       "    <tr style=\"text-align: right;\">\n",
       "      <th></th>\n",
       "      <th>Car_Brand</th>\n",
       "      <th>Car_Name</th>\n",
       "      <th>Year</th>\n",
       "      <th>Selling_Price</th>\n",
       "      <th>Km_Driven</th>\n",
       "      <th>Fuel</th>\n",
       "      <th>Seller_Type</th>\n",
       "      <th>Transmission</th>\n",
       "      <th>Owner</th>\n",
       "    </tr>\n",
       "  </thead>\n",
       "  <tbody>\n",
       "    <tr>\n",
       "      <th>0</th>\n",
       "      <td>3</td>\n",
       "      <td>12</td>\n",
       "      <td>2010</td>\n",
       "      <td>400000</td>\n",
       "      <td>50000</td>\n",
       "      <td>1</td>\n",
       "      <td>1</td>\n",
       "      <td>1</td>\n",
       "      <td>0</td>\n",
       "    </tr>\n",
       "    <tr>\n",
       "      <th>1</th>\n",
       "      <td>5</td>\n",
       "      <td>11</td>\n",
       "      <td>2015</td>\n",
       "      <td>320000</td>\n",
       "      <td>50000</td>\n",
       "      <td>0</td>\n",
       "      <td>1</td>\n",
       "      <td>1</td>\n",
       "      <td>3</td>\n",
       "    </tr>\n",
       "    <tr>\n",
       "      <th>2</th>\n",
       "      <td>7</td>\n",
       "      <td>2</td>\n",
       "      <td>2016</td>\n",
       "      <td>280000</td>\n",
       "      <td>23000</td>\n",
       "      <td>1</td>\n",
       "      <td>1</td>\n",
       "      <td>1</td>\n",
       "      <td>0</td>\n",
       "    </tr>\n",
       "    <tr>\n",
       "      <th>3</th>\n",
       "      <td>1</td>\n",
       "      <td>4</td>\n",
       "      <td>2010</td>\n",
       "      <td>165000</td>\n",
       "      <td>100000</td>\n",
       "      <td>1</td>\n",
       "      <td>1</td>\n",
       "      <td>1</td>\n",
       "      <td>1</td>\n",
       "    </tr>\n",
       "    <tr>\n",
       "      <th>4</th>\n",
       "      <td>6</td>\n",
       "      <td>6</td>\n",
       "      <td>2009</td>\n",
       "      <td>270000</td>\n",
       "      <td>120000</td>\n",
       "      <td>0</td>\n",
       "      <td>1</td>\n",
       "      <td>1</td>\n",
       "      <td>2</td>\n",
       "    </tr>\n",
       "  </tbody>\n",
       "</table>\n",
       "</div>"
      ],
      "text/plain": [
       "   Car_Brand  Car_Name  Year  Selling_Price  Km_Driven  Fuel  Seller_Type  \\\n",
       "0          3        12  2010         400000      50000     1            1   \n",
       "1          5        11  2015         320000      50000     0            1   \n",
       "2          7         2  2016         280000      23000     1            1   \n",
       "3          1         4  2010         165000     100000     1            1   \n",
       "4          6         6  2009         270000     120000     0            1   \n",
       "\n",
       "   Transmission  Owner  \n",
       "0             1      0  \n",
       "1             1      3  \n",
       "2             1      0  \n",
       "3             1      1  \n",
       "4             1      2  "
      ]
     },
     "execution_count": 63,
     "metadata": {},
     "output_type": "execute_result"
    }
   ],
   "source": [
    "from sklearn.preprocessing import LabelEncoder\n",
    "\n",
    "# Assuming 'categorical_col' is a list of categorical column names\n",
    "label_encoder = {}\n",
    "\n",
    "# Fitting the label encoders on each categorical column\n",
    "for col in categorical_col:\n",
    "    label_encoder[col] = LabelEncoder()  # Initialize a new LabelEncoder for each column\n",
    "    sample_data[col] = sample_data[col].astype(str)  # Convert all values to string to avoid errors\n",
    "    label_encoder[col].fit(sample_data[col])  # Fit the LabelEncoder\n",
    "\n",
    "# Applying the transformation\n",
    "for col in categorical_col:\n",
    "    sample_data[col] = label_encoder[col].transform(sample_data[col])\n",
    "\n",
    "# Check the result\n",
    "sample_data.head()\n"
   ]
  },
  {
   "cell_type": "markdown",
   "id": "cab732e7",
   "metadata": {},
   "source": [
    "## Generating prediction through Model on Sample Dataset"
   ]
  },
  {
   "cell_type": "code",
   "execution_count": 65,
   "id": "ad4253d6",
   "metadata": {},
   "outputs": [
    {
     "name": "stdout",
     "output_type": "stream",
     "text": [
      "\n",
      "Random Predictions on 20 Data Points:\n"
     ]
    },
    {
     "data": {
      "text/html": [
       "<div>\n",
       "<style scoped>\n",
       "    .dataframe tbody tr th:only-of-type {\n",
       "        vertical-align: middle;\n",
       "    }\n",
       "\n",
       "    .dataframe tbody tr th {\n",
       "        vertical-align: top;\n",
       "    }\n",
       "\n",
       "    .dataframe thead th {\n",
       "        text-align: right;\n",
       "    }\n",
       "</style>\n",
       "<table border=\"1\" class=\"dataframe\">\n",
       "  <thead>\n",
       "    <tr style=\"text-align: right;\">\n",
       "      <th></th>\n",
       "      <th>Actual</th>\n",
       "      <th>Predicted</th>\n",
       "      <th>Difference in %</th>\n",
       "    </tr>\n",
       "  </thead>\n",
       "  <tbody>\n",
       "    <tr>\n",
       "      <th>0</th>\n",
       "      <td>400000</td>\n",
       "      <td>234522</td>\n",
       "      <td>41.369500</td>\n",
       "    </tr>\n",
       "    <tr>\n",
       "      <th>1</th>\n",
       "      <td>320000</td>\n",
       "      <td>280948</td>\n",
       "      <td>12.203750</td>\n",
       "    </tr>\n",
       "    <tr>\n",
       "      <th>2</th>\n",
       "      <td>280000</td>\n",
       "      <td>651310</td>\n",
       "      <td>-132.610714</td>\n",
       "    </tr>\n",
       "    <tr>\n",
       "      <th>3</th>\n",
       "      <td>165000</td>\n",
       "      <td>371949</td>\n",
       "      <td>-125.423636</td>\n",
       "    </tr>\n",
       "    <tr>\n",
       "      <th>4</th>\n",
       "      <td>270000</td>\n",
       "      <td>148332</td>\n",
       "      <td>45.062222</td>\n",
       "    </tr>\n",
       "    <tr>\n",
       "      <th>5</th>\n",
       "      <td>490000</td>\n",
       "      <td>256221</td>\n",
       "      <td>47.710000</td>\n",
       "    </tr>\n",
       "    <tr>\n",
       "      <th>6</th>\n",
       "      <td>220000</td>\n",
       "      <td>172797</td>\n",
       "      <td>21.455909</td>\n",
       "    </tr>\n",
       "    <tr>\n",
       "      <th>7</th>\n",
       "      <td>430000</td>\n",
       "      <td>428591</td>\n",
       "      <td>0.327674</td>\n",
       "    </tr>\n",
       "    <tr>\n",
       "      <th>8</th>\n",
       "      <td>950000</td>\n",
       "      <td>463081</td>\n",
       "      <td>51.254632</td>\n",
       "    </tr>\n",
       "    <tr>\n",
       "      <th>9</th>\n",
       "      <td>135000</td>\n",
       "      <td>100885</td>\n",
       "      <td>25.270370</td>\n",
       "    </tr>\n",
       "    <tr>\n",
       "      <th>10</th>\n",
       "      <td>380000</td>\n",
       "      <td>730926</td>\n",
       "      <td>-92.348947</td>\n",
       "    </tr>\n",
       "    <tr>\n",
       "      <th>11</th>\n",
       "      <td>375000</td>\n",
       "      <td>592931</td>\n",
       "      <td>-58.114933</td>\n",
       "    </tr>\n",
       "    <tr>\n",
       "      <th>12</th>\n",
       "      <td>750000</td>\n",
       "      <td>513275</td>\n",
       "      <td>31.563333</td>\n",
       "    </tr>\n",
       "    <tr>\n",
       "      <th>13</th>\n",
       "      <td>711000</td>\n",
       "      <td>749289</td>\n",
       "      <td>-5.385232</td>\n",
       "    </tr>\n",
       "    <tr>\n",
       "      <th>14</th>\n",
       "      <td>450000</td>\n",
       "      <td>241316</td>\n",
       "      <td>46.374222</td>\n",
       "    </tr>\n",
       "    <tr>\n",
       "      <th>15</th>\n",
       "      <td>229999</td>\n",
       "      <td>306926</td>\n",
       "      <td>-33.446667</td>\n",
       "    </tr>\n",
       "    <tr>\n",
       "      <th>16</th>\n",
       "      <td>800000</td>\n",
       "      <td>325337</td>\n",
       "      <td>59.332875</td>\n",
       "    </tr>\n",
       "    <tr>\n",
       "      <th>17</th>\n",
       "      <td>175000</td>\n",
       "      <td>259030</td>\n",
       "      <td>-48.017143</td>\n",
       "    </tr>\n",
       "    <tr>\n",
       "      <th>18</th>\n",
       "      <td>550000</td>\n",
       "      <td>552491</td>\n",
       "      <td>-0.452909</td>\n",
       "    </tr>\n",
       "    <tr>\n",
       "      <th>19</th>\n",
       "      <td>415000</td>\n",
       "      <td>345637</td>\n",
       "      <td>16.713976</td>\n",
       "    </tr>\n",
       "  </tbody>\n",
       "</table>\n",
       "</div>"
      ],
      "text/plain": [
       "    Actual  Predicted  Difference in %\n",
       "0   400000     234522        41.369500\n",
       "1   320000     280948        12.203750\n",
       "2   280000     651310      -132.610714\n",
       "3   165000     371949      -125.423636\n",
       "4   270000     148332        45.062222\n",
       "5   490000     256221        47.710000\n",
       "6   220000     172797        21.455909\n",
       "7   430000     428591         0.327674\n",
       "8   950000     463081        51.254632\n",
       "9   135000     100885        25.270370\n",
       "10  380000     730926       -92.348947\n",
       "11  375000     592931       -58.114933\n",
       "12  750000     513275        31.563333\n",
       "13  711000     749289        -5.385232\n",
       "14  450000     241316        46.374222\n",
       "15  229999     306926       -33.446667\n",
       "16  800000     325337        59.332875\n",
       "17  175000     259030       -48.017143\n",
       "18  550000     552491        -0.452909\n",
       "19  415000     345637        16.713976"
      ]
     },
     "execution_count": 65,
     "metadata": {},
     "output_type": "execute_result"
    }
   ],
   "source": [
    "# Splitting Input and Target variables\n",
    "sample_x = sample_data.drop([\"Selling_Price\"], axis=1)\n",
    "sample_y = sample_data[\"Selling_Price\"]\n",
    "\n",
    "# Generating predicion using the loaded model\n",
    "sample_pred = model.predict(sample_x).astype(int)\n",
    "\n",
    "# Comparing the actual and predicted data \n",
    "results = pd.DataFrame({'Actual': sample_y, 'Predicted': sample_pred, 'Difference in %': ((sample_y - sample_pred)/sample_y)*100})\n",
    "print(\"\\nRandom Predictions on 20 Data Points:\")\n",
    "results"
   ]
  },
  {
   "cell_type": "code",
   "execution_count": 67,
   "id": "70957b31",
   "metadata": {},
   "outputs": [
    {
     "name": "stdout",
     "output_type": "stream",
     "text": [
      "\n",
      "MSE : 51717238555.85\n",
      "MAE : 173395.55\n",
      "R2 Score : -0.055727917630421064\n"
     ]
    }
   ],
   "source": [
    "# Evaluating the score on model\n",
    "print('\\nMSE :',mean_squared_error(sample_y,sample_pred))\n",
    "print('MAE :',mean_absolute_error(sample_y,sample_pred))\n",
    "print('R2 Score :',r2_score(sample_y,sample_pred))"
   ]
  },
  {
   "cell_type": "code",
   "execution_count": 71,
   "id": "d98938a2",
   "metadata": {},
   "outputs": [
    {
     "name": "stdout",
     "output_type": "stream",
     "text": [
      "Model loaded successfully.\n"
     ]
    }
   ],
   "source": [
    "import pickle\n",
    "\n",
    "# Attempt to load the model\n",
    "try:\n",
    "    with open('app.pkl', 'rb') as file:\n",
    "        loaded_model = pickle.load(file)\n",
    "    print(\"Model loaded successfully.\")\n",
    "except Exception as e:\n",
    "    print(f\"Error loading model: {e}\")\n"
   ]
  },
  {
   "cell_type": "markdown",
   "id": "bbf45163",
   "metadata": {},
   "source": [
    "## Conclusion:"
   ]
  },
  {
   "cell_type": "markdown",
   "id": "c1677d36",
   "metadata": {},
   "source": [
    "1)- Using different machine learning models would lead to different values of mean absolute error, mean squared error and r2 score respectively."
   ]
  },
  {
   "cell_type": "markdown",
   "id": "59a74956",
   "metadata": {},
   "source": [
    "2)- Remove the outliers from the data as it would completely change some of the important predictions and lead to an increase in the error respectively."
   ]
  },
  {
   "cell_type": "markdown",
   "id": "285de113",
   "metadata": {},
   "source": [
    "3)- Ensuring the dataset is free from missing and duplicate values is crucial. Missing values can be handled either by dropping or imputing them, depending on the dataset's structure. Addressing this issue is important to avoid errors during model training"
   ]
  },
  {
   "cell_type": "code",
   "execution_count": null,
   "id": "598f3913",
   "metadata": {},
   "outputs": [],
   "source": []
  }
 ],
 "metadata": {
  "kernelspec": {
   "display_name": "Python 3 (ipykernel)",
   "language": "python",
   "name": "python3"
  },
  "language_info": {
   "codemirror_mode": {
    "name": "ipython",
    "version": 3
   },
   "file_extension": ".py",
   "mimetype": "text/x-python",
   "name": "python",
   "nbconvert_exporter": "python",
   "pygments_lexer": "ipython3",
   "version": "3.11.4"
  }
 },
 "nbformat": 4,
 "nbformat_minor": 5
}
